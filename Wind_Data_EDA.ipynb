{
 "cells": [
  {
   "cell_type": "code",
   "execution_count": 21,
   "metadata": {},
   "outputs": [],
   "source": [
    "import pandas as pd\n",
    "import matplotlib.pyplot as plt\n",
    "import seaborn as sns\n",
    "import json\n",
    "import requests\n",
    "\n",
    "from strong_wind_warning_app.config import get_settings"
   ]
  },
  {
   "cell_type": "code",
   "execution_count": 2,
   "metadata": {},
   "outputs": [],
   "source": [
    "s = get_settings()"
   ]
  },
  {
   "cell_type": "markdown",
   "metadata": {},
   "source": [
    "# OpenWeather API"
   ]
  },
  {
   "cell_type": "markdown",
   "metadata": {},
   "source": [
    "Example OpenWeather output:                      \n",
    "```\n",
    "                \n",
    "\n",
    "{\n",
    "  \"lat\": 33.44,\n",
    "  \"lon\": -94.04,\n",
    "  \"timezone\": \"America/Chicago\",\n",
    "  \"timezone_offset\": -21600,\n",
    "  \"current\": {\n",
    "    \"dt\": 1618317040,\n",
    "    \"sunrise\": 1618282134,\n",
    "    \"sunset\": 1618333901,\n",
    "    \"temp\": 284.07,\n",
    "    \"feels_like\": 282.84,\n",
    "    \"pressure\": 1019,\n",
    "    \"humidity\": 62,\n",
    "    \"dew_point\": 277.08,\n",
    "    \"uvi\": 0.89,\n",
    "    \"clouds\": 0,\n",
    "    \"visibility\": 10000,\n",
    "    \"wind_speed\": 6,\n",
    "    \"wind_deg\": 300,\n",
    "    \"weather\": [\n",
    "      {\n",
    "        \"id\": 500,\n",
    "        \"main\": \"Rain\",\n",
    "        \"description\": \"light rain\",\n",
    "        \"icon\": \"10d\"\n",
    "      }\n",
    "    ],\n",
    "    \"rain\": {\n",
    "      \"1h\": 0.21\n",
    "    }\n",
    "  },\n",
    "    \"minutely\": [\n",
    "    {\n",
    "      \"dt\": 1618317060,\n",
    "      \"precipitation\": 0.205\n",
    "    },\n",
    "    ...\n",
    "  },\n",
    "    \"hourly\": [\n",
    "    {\n",
    "      \"dt\": 1618315200,\n",
    "      \"temp\": 282.58,\n",
    "      \"feels_like\": 280.4,\n",
    "      \"pressure\": 1019,\n",
    "      \"humidity\": 68,\n",
    "      \"dew_point\": 276.98,\n",
    "      \"uvi\": 1.4,\n",
    "      \"clouds\": 19,\n",
    "      \"visibility\": 306,\n",
    "      \"wind_speed\": 4.12,\n",
    "      \"wind_deg\": 296,\n",
    "      \"wind_gust\": 7.33,\n",
    "      \"weather\": [\n",
    "        {\n",
    "          \"id\": 801,\n",
    "          \"main\": \"Clouds\",\n",
    "          \"description\": \"few clouds\",\n",
    "          \"icon\": \"02d\"\n",
    "        }\n",
    "      ],\n",
    "      \"pop\": 0\n",
    "    },\n",
    "    ...\n",
    "  }\n",
    "    \"daily\": [\n",
    "    {\n",
    "      \"dt\": 1618308000,\n",
    "      \"sunrise\": 1618282134,\n",
    "      \"sunset\": 1618333901,\n",
    "      \"moonrise\": 1618284960,\n",
    "      \"moonset\": 1618339740,\n",
    "      \"moon_phase\": 0.04,\n",
    "      \"temp\": {\n",
    "        \"day\": 279.79,\n",
    "        \"min\": 275.09,\n",
    "        \"max\": 284.07,\n",
    "        \"night\": 275.09,\n",
    "        \"eve\": 279.21,\n",
    "        \"morn\": 278.49\n",
    "      },\n",
    "      \"feels_like\": {\n",
    "        \"day\": 277.59,\n",
    "        \"night\": 276.27,\n",
    "        \"eve\": 276.49,\n",
    "        \"morn\": 276.27\n",
    "      },\n",
    "      \"pressure\": 1020,\n",
    "      \"humidity\": 81,\n",
    "      \"dew_point\": 276.77,\n",
    "      \"wind_speed\": 3.06,\n",
    "      \"wind_deg\": 294,\n",
    "      \"weather\": [\n",
    "        {\n",
    "          \"id\": 500,\n",
    "          \"main\": \"Rain\",\n",
    "          \"description\": \"light rain\",\n",
    "          \"icon\": \"10d\"\n",
    "        }\n",
    "      ],\n",
    "      \"clouds\": 56,\n",
    "      \"pop\": 0.2,\n",
    "      \"rain\": 0.62,\n",
    "      \"uvi\": 1.93\n",
    "    },\n",
    "    ...\n",
    "    },\n",
    "    \"alerts\": [\n",
    "    {\n",
    "      \"sender_name\": \"NWS Tulsa\",\n",
    "      \"event\": \"Heat Advisory\",\n",
    "      \"start\": 1597341600,\n",
    "      \"end\": 1597366800,\n",
    "      \"description\": \"...HEAT ADVISORY REMAINS IN EFFECT FROM 1 PM THIS AFTERNOON TO\\n8 PM CDT THIS EVENING...\\n* WHAT...Heat index values of 105 to 109 degrees expected.\\n* WHERE...Creek, Okfuskee, Okmulgee, McIntosh, Pittsburg,\\nLatimer, Pushmataha, and Choctaw Counties.\\n* WHEN...From 1 PM to 8 PM CDT Thursday.\\n* IMPACTS...The combination of hot temperatures and high\\nhumidity will combine to create a dangerous situation in which\\nheat illnesses are possible.\",\n",
    "      \"tags\": [\n",
    "        \"Extreme temperature value\"\n",
    "        ]\n",
    "    },\n",
    "    ...\n",
    "  ]\n",
    "}\n",
    "```"
   ]
  },
  {
   "cell_type": "markdown",
   "metadata": {},
   "source": [
    "## Current Weather Data"
   ]
  },
  {
   "cell_type": "markdown",
   "metadata": {},
   "source": [
    "### Get current wind:"
   ]
  },
  {
   "cell_type": "code",
   "execution_count": 3,
   "metadata": {},
   "outputs": [],
   "source": [
    "def get_current_wind_forecast() -> dict:\n",
    "    current_exclusions = \",\".join([\n",
    "        i for i in s.OPEN_WEATHER_API_TYPES if i != \"current\"\n",
    "    ])\n",
    "    wind_fields = [\"wind_speed\", \"wind_deg\", \"wind_gust\"]\n",
    "\n",
    "    request_url = (\n",
    "        f\"{s.OPEN_WEATHER_URL_BASE}\"\n",
    "        f\"?lat={s.LOCATION_LATITUDE}&lon={s.LOCATION_LONGITUDE}\"\n",
    "        f\"&exclude=[{current_exclusions}]\"\n",
    "        f\"&appid={s.OPEN_WEATHER_API_KEY}\"\n",
    "    )\n",
    "\n",
    "    output = requests.get(request_url)\n",
    "\n",
    "    if output.status_code == 200:\n",
    "        output_json = json.loads(output.text)\n",
    "        wind = {\n",
    "            k: v for k, v in output_json[\"current\"].items() if k in wind_fields\n",
    "        }\n",
    "\n",
    "        return wind"
   ]
  },
  {
   "cell_type": "code",
   "execution_count": 4,
   "metadata": {},
   "outputs": [
    {
     "data": {
      "text/plain": [
       "{'wind_speed': 0.45, 'wind_deg': 168, 'wind_gust': 0.89}"
      ]
     },
     "execution_count": 4,
     "metadata": {},
     "output_type": "execute_result"
    }
   ],
   "source": [
    "# Note: Wind speed is expressed in metres/second\n",
    "get_current_wind_forecast()"
   ]
  },
  {
   "cell_type": "markdown",
   "metadata": {},
   "source": [
    "## Hourly Forecasts"
   ]
  },
  {
   "cell_type": "code",
   "execution_count": 27,
   "metadata": {},
   "outputs": [],
   "source": [
    "def get_hourly_forecasts() -> dict:\n",
    "    current_exclusions = \",\".join([\n",
    "        i for i in s.OPEN_WEATHER_API_TYPES if i != \"hourly\"\n",
    "    ])\n",
    "    output_fields = [\"dt\", \"wind_speed\", \"wind_deg\", \"wind_gust\"]\n",
    "\n",
    "    request_url = (\n",
    "        f\"{s.OPEN_WEATHER_URL_BASE}\"\n",
    "        f\"?lat={s.LOCATION_LATITUDE}&lon={s.LOCATION_LONGITUDE}\"\n",
    "        f\"&exclude=[{current_exclusions}]\"\n",
    "        f\"&appid={s.OPEN_WEATHER_API_KEY}\"\n",
    "    )\n",
    "\n",
    "    output = requests.get(request_url)\n",
    "\n",
    "    if output.status_code == 200:\n",
    "        output_json = json.loads(output.text)\n",
    "        hourly_forecasts = output_json[\"hourly\"]\n",
    "\n",
    "        hourly_forecast_records = [\n",
    "            [hfc[wf] for wf in output_fields] for hfc in hourly_forecasts\n",
    "        ]\n",
    "\n",
    "        output_df = pd.DataFrame(\n",
    "            data=hourly_forecast_records,\n",
    "            columns=output_fields,\n",
    "        )\n",
    "\n",
    "        output_df[\"dt\"] = pd.to_datetime(output_df['dt'],unit='s')\n",
    "        output_df.set_index(\"dt\", inplace=True)\n",
    "\n",
    "        return output_df"
   ]
  },
  {
   "cell_type": "code",
   "execution_count": 28,
   "metadata": {},
   "outputs": [],
   "source": [
    "hourly_forecasts = get_hourly_forecasts()"
   ]
  },
  {
   "cell_type": "code",
   "execution_count": 29,
   "metadata": {},
   "outputs": [
    {
     "data": {
      "image/png": "[encoded data removed]",
      "text/plain": [
       "<Figure size 1080x360 with 1 Axes>"
      ]
     },
     "metadata": {
      "needs_background": "light"
     },
     "output_type": "display_data"
    }
   ],
   "source": [
    "plt.figure(figsize=(15, 5))\n",
    "sns.lineplot(data=hourly_forecasts[\"wind_speed\"], palette=\"tab10\", linewidth=2.5)\n",
    "plt.show()"
   ]
  },
  {
   "cell_type": "code",
   "execution_count": 66,
   "metadata": {},
   "outputs": [],
   "source": [
    "above_threshold = []\n",
    "\n",
    "for dt, ws in hourly_forecasts[[\"wind_speed\"]].itertuples():\n",
    "    if ws >= 5.5: # Arbitrary at this stage\n",
    "        above_threshold.append(dt)\n",
    "    else:\n",
    "        above_threshold.append(\"-\")"
   ]
  },
  {
   "cell_type": "code",
   "execution_count": 73,
   "metadata": {},
   "outputs": [
    {
     "data": {
      "text/plain": [
       "['-',\n",
       " '-',\n",
       " '-',\n",
       " '-',\n",
       " '-',\n",
       " Timestamp('2021-10-17 04:00:00'),\n",
       " '-',\n",
       " Timestamp('2021-10-17 06:00:00'),\n",
       " Timestamp('2021-10-17 07:00:00'),\n",
       " '-',\n",
       " '-',\n",
       " '-',\n",
       " '-',\n",
       " '-',\n",
       " '-',\n",
       " '-',\n",
       " '-',\n",
       " '-',\n",
       " '-',\n",
       " '-',\n",
       " '-',\n",
       " '-',\n",
       " '-',\n",
       " '-',\n",
       " '-',\n",
       " '-',\n",
       " '-',\n",
       " '-',\n",
       " Timestamp('2021-10-18 03:00:00'),\n",
       " Timestamp('2021-10-18 04:00:00'),\n",
       " Timestamp('2021-10-18 05:00:00'),\n",
       " Timestamp('2021-10-18 06:00:00'),\n",
       " '-',\n",
       " '-',\n",
       " '-',\n",
       " '-',\n",
       " '-',\n",
       " '-',\n",
       " '-',\n",
       " '-',\n",
       " '-',\n",
       " '-',\n",
       " '-',\n",
       " '-',\n",
       " '-',\n",
       " '-',\n",
       " '-',\n",
       " Timestamp('2021-10-18 22:00:00')]"
      ]
     },
     "execution_count": 73,
     "metadata": {},
     "output_type": "execute_result"
    }
   ],
   "source": [
    "above_threshold[6] = '-'\n",
    "above_threshold"
   ]
  },
  {
   "cell_type": "code",
   "execution_count": 79,
   "metadata": {},
   "outputs": [],
   "source": [
    "atp = ['-'] + above_threshold + ['-']\n",
    "\n",
    "sliding_windows = list(zip(atp[:-2], atp[1:-1], atp[2:]))\n",
    "\n",
    "skip_single_dips = [\n",
    "    j for i, j, k in sliding_windows\n",
    "    if not (\n",
    "        (i != '-') and (j == '-') and (k != '-')\n",
    "    )\n",
    "]"
   ]
  },
  {
   "cell_type": "code",
   "execution_count": 80,
   "metadata": {},
   "outputs": [
    {
     "data": {
      "text/plain": [
       "['-',\n",
       " '-',\n",
       " '-',\n",
       " '-',\n",
       " '-',\n",
       " Timestamp('2021-10-17 04:00:00'),\n",
       " Timestamp('2021-10-17 06:00:00'),\n",
       " Timestamp('2021-10-17 07:00:00'),\n",
       " '-',\n",
       " '-',\n",
       " '-',\n",
       " '-',\n",
       " '-',\n",
       " '-',\n",
       " '-',\n",
       " '-',\n",
       " '-',\n",
       " '-',\n",
       " '-',\n",
       " '-',\n",
       " '-',\n",
       " '-',\n",
       " '-',\n",
       " '-',\n",
       " '-',\n",
       " '-',\n",
       " '-',\n",
       " Timestamp('2021-10-18 03:00:00'),\n",
       " Timestamp('2021-10-18 04:00:00'),\n",
       " Timestamp('2021-10-18 05:00:00'),\n",
       " Timestamp('2021-10-18 06:00:00'),\n",
       " '-',\n",
       " '-',\n",
       " '-',\n",
       " '-',\n",
       " '-',\n",
       " '-',\n",
       " '-',\n",
       " '-',\n",
       " '-',\n",
       " '-',\n",
       " '-',\n",
       " '-',\n",
       " '-',\n",
       " '-',\n",
       " '-',\n",
       " Timestamp('2021-10-18 22:00:00')]"
      ]
     },
     "execution_count": 80,
     "metadata": {},
     "output_type": "execute_result"
    }
   ],
   "source": [
    "skip_single_dips"
   ]
  },
  {
   "cell_type": "code",
   "execution_count": 92,
   "metadata": {},
   "outputs": [],
   "source": [
    "first_ts = False\n",
    "\n",
    "if set(skip_single_dips) != {'-'}:\n",
    "    for i, item in enumerate(skip_single_dips):\n",
    "        if item == \"-\" and not first_ts:\n",
    "            pass\n",
    "        elif item != \"-\" and not first_ts:\n",
    "            first_index = i\n",
    "            first_ts = True\n",
    "        elif item != \"-\" and first_ts:\n",
    "            pass\n",
    "        elif item == \"-\" and first_ts:\n",
    "            last_index = i-1\n",
    "            break\n"
   ]
  },
  {
   "cell_type": "code",
   "execution_count": null,
   "metadata": {},
   "outputs": [],
   "source": [
    "### STOPPED HERE ###"
   ]
  },
  {
   "cell_type": "code",
   "execution_count": 93,
   "metadata": {},
   "outputs": [
    {
     "name": "stdout",
     "output_type": "stream",
     "text": [
      "5 7\n"
     ]
    }
   ],
   "source": [
    "print(first_index, last_index)"
   ]
  },
  {
   "cell_type": "code",
   "execution_count": 45,
   "metadata": {},
   "outputs": [
    {
     "data": {
      "text/plain": [
       "Timestamp('2021-10-17 02:00:00')"
      ]
     },
     "execution_count": 45,
     "metadata": {},
     "output_type": "execute_result"
    }
   ],
   "source": [
    "min_ = min(mins)\n",
    "min_"
   ]
  },
  {
   "cell_type": "code",
   "execution_count": 41,
   "metadata": {},
   "outputs": [
    {
     "data": {
      "text/plain": [
       "[Timestamp('2021-10-17 06:00:00'),\n",
       " Timestamp('2021-10-17 07:00:00'),\n",
       " Timestamp('2021-10-17 08:00:00'),\n",
       " Timestamp('2021-10-17 09:00:00'),\n",
       " Timestamp('2021-10-18 05:00:00'),\n",
       " Timestamp('2021-10-18 06:00:00'),\n",
       " Timestamp('2021-10-18 07:00:00'),\n",
       " Timestamp('2021-10-18 08:00:00'),\n",
       " Timestamp('2021-10-19 00:00:00')]"
      ]
     },
     "execution_count": 41,
     "metadata": {},
     "output_type": "execute_result"
    }
   ],
   "source": [
    "maxes"
   ]
  },
  {
   "cell_type": "code",
   "execution_count": 44,
   "metadata": {},
   "outputs": [
    {
     "data": {
      "text/plain": [
       "Timestamp('2021-10-19 00:00:00')"
      ]
     },
     "execution_count": 44,
     "metadata": {},
     "output_type": "execute_result"
    }
   ],
   "source": [
    "max_ = max(maxes)\n",
    "max_"
   ]
  },
  {
   "cell_type": "code",
   "execution_count": 46,
   "metadata": {},
   "outputs": [],
   "source": [
    "warning_range = (min_, max_)"
   ]
  },
  {
   "cell_type": "markdown",
   "metadata": {},
   "source": [
    "# Simulate Session Times"
   ]
  },
  {
   "cell_type": "code",
   "execution_count": 57,
   "metadata": {},
   "outputs": [
    {
     "data": {
      "text/html": [
       "<div>\n",
       "<style scoped>\n",
       "    .dataframe tbody tr th:only-of-type {\n",
       "        vertical-align: middle;\n",
       "    }\n",
       "\n",
       "    .dataframe tbody tr th {\n",
       "        vertical-align: top;\n",
       "    }\n",
       "\n",
       "    .dataframe thead th {\n",
       "        text-align: right;\n",
       "    }\n",
       "</style>\n",
       "<table border=\"1\" class=\"dataframe\">\n",
       "  <thead>\n",
       "    <tr style=\"text-align: right;\">\n",
       "      <th></th>\n",
       "      <th>dt</th>\n",
       "      <th>class_type</th>\n",
       "      <th>user_alerted</th>\n",
       "    </tr>\n",
       "  </thead>\n",
       "  <tbody>\n",
       "    <tr>\n",
       "      <th>827</th>\n",
       "      <td>2021-10-18 05:47:00</td>\n",
       "      <td>B</td>\n",
       "      <td>False</td>\n",
       "    </tr>\n",
       "    <tr>\n",
       "      <th>1267</th>\n",
       "      <td>2021-10-18 13:07:00</td>\n",
       "      <td>B</td>\n",
       "      <td>False</td>\n",
       "    </tr>\n",
       "    <tr>\n",
       "      <th>1295</th>\n",
       "      <td>2021-10-18 13:35:00</td>\n",
       "      <td>B</td>\n",
       "      <td>False</td>\n",
       "    </tr>\n",
       "    <tr>\n",
       "      <th>1905</th>\n",
       "      <td>2021-10-18 23:45:00</td>\n",
       "      <td>C</td>\n",
       "      <td>False</td>\n",
       "    </tr>\n",
       "    <tr>\n",
       "      <th>1683</th>\n",
       "      <td>2021-10-18 20:03:00</td>\n",
       "      <td>D</td>\n",
       "      <td>False</td>\n",
       "    </tr>\n",
       "    <tr>\n",
       "      <th>...</th>\n",
       "      <td>...</td>\n",
       "      <td>...</td>\n",
       "      <td>...</td>\n",
       "    </tr>\n",
       "    <tr>\n",
       "      <th>1142</th>\n",
       "      <td>2021-10-18 11:02:00</td>\n",
       "      <td>C</td>\n",
       "      <td>False</td>\n",
       "    </tr>\n",
       "    <tr>\n",
       "      <th>2298</th>\n",
       "      <td>2021-10-19 06:18:00</td>\n",
       "      <td>C</td>\n",
       "      <td>False</td>\n",
       "    </tr>\n",
       "    <tr>\n",
       "      <th>425</th>\n",
       "      <td>2021-10-17 23:05:00</td>\n",
       "      <td>B</td>\n",
       "      <td>False</td>\n",
       "    </tr>\n",
       "    <tr>\n",
       "      <th>868</th>\n",
       "      <td>2021-10-18 06:28:00</td>\n",
       "      <td>B</td>\n",
       "      <td>False</td>\n",
       "    </tr>\n",
       "    <tr>\n",
       "      <th>625</th>\n",
       "      <td>2021-10-18 02:25:00</td>\n",
       "      <td>B</td>\n",
       "      <td>False</td>\n",
       "    </tr>\n",
       "  </tbody>\n",
       "</table>\n",
       "<p>100 rows × 3 columns</p>\n",
       "</div>"
      ],
      "text/plain": [
       "                      dt class_type  user_alerted\n",
       "827  2021-10-18 05:47:00          B         False\n",
       "1267 2021-10-18 13:07:00          B         False\n",
       "1295 2021-10-18 13:35:00          B         False\n",
       "1905 2021-10-18 23:45:00          C         False\n",
       "1683 2021-10-18 20:03:00          D         False\n",
       "...                  ...        ...           ...\n",
       "1142 2021-10-18 11:02:00          C         False\n",
       "2298 2021-10-19 06:18:00          C         False\n",
       "425  2021-10-17 23:05:00          B         False\n",
       "868  2021-10-18 06:28:00          B         False\n",
       "625  2021-10-18 02:25:00          B         False\n",
       "\n",
       "[100 rows x 3 columns]"
      ]
     },
     "execution_count": 57,
     "metadata": {},
     "output_type": "execute_result"
    }
   ],
   "source": [
    "import random\n",
    "from datetime import datetime\n",
    "df = pd.DataFrame()\n",
    "df[\"dt\"] = pd.date_range(\n",
    "    datetime.now().replace(second=0, microsecond=0),\n",
    "    periods = 2760,\n",
    "    freq='min'\n",
    ")\n",
    "df[\"class_type\"] = random.choices(['A', 'B', 'C', 'D', 'E'], k=2760)\n",
    "df[\"user_alerted\"] = False\n",
    "\n",
    "df = df.sample(100)\n",
    "\n",
    "df"
   ]
  },
  {
   "cell_type": "markdown",
   "metadata": {},
   "source": [
    "# Find Alert Window"
   ]
  },
  {
   "cell_type": "code",
   "execution_count": 60,
   "metadata": {},
   "outputs": [
    {
     "data": {
      "text/plain": [
       "Timestamp('2021-10-18 11:02:00')"
      ]
     },
     "execution_count": 60,
     "metadata": {},
     "output_type": "execute_result"
    }
   ],
   "source": []
  },
  {
   "cell_type": "code",
   "execution_count": 62,
   "metadata": {},
   "outputs": [
    {
     "data": {
      "image/png": "[encoded data removed]",
      "text/plain": [
       "<Figure size 1080x360 with 1 Axes>"
      ]
     },
     "metadata": {
      "needs_background": "light"
     },
     "output_type": "display_data"
    }
   ],
   "source": [
    "plt.figure(figsize=(15, 5))\n",
    "sns.lineplot(data=hourly_forecasts[\"wind_speed\"], palette=\"tab10\", linewidth=2.5)\n",
    "plt.axvline(min_)\n",
    "plt.axvline(max_)\n",
    "plt.show()"
   ]
  },
  {
   "cell_type": "code",
   "execution_count": null,
   "metadata": {},
   "outputs": [],
   "source": []
  }
 ],
 "metadata": {
  "interpreter": {
   "hash": "ecce35bd9113a747577efe0252c6847bf715809e090c88017736437029f8b50c"
  },
  "kernelspec": {
   "display_name": "Python 3.9.7 64-bit ('.venv': poetry)",
   "name": "python3"
  },
  "language_info": {
   "codemirror_mode": {
    "name": "ipython",
    "version": 3
   },
   "file_extension": ".py",
   "mimetype": "text/x-python",
   "name": "python",
   "nbconvert_exporter": "python",
   "pygments_lexer": "ipython3",
   "version": "3.9.7"
  },
  "orig_nbformat": 4
 },
 "nbformat": 4,
 "nbformat_minor": 2
}
