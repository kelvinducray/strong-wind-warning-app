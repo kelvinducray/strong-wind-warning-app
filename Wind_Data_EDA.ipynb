{
 "cells": [
  {
   "cell_type": "code",
   "execution_count": 1,
   "source": [
    "import json\n",
    "import requests\n",
    "\n",
    "from strong_wind_warning_app.config import Settings"
   ],
   "outputs": [],
   "metadata": {}
  },
  {
   "cell_type": "code",
   "execution_count": 2,
   "source": [
    "s = Settings()"
   ],
   "outputs": [],
   "metadata": {}
  },
  {
   "cell_type": "markdown",
   "source": [
    "# OpenWeather API"
   ],
   "metadata": {}
  },
  {
   "cell_type": "markdown",
   "source": [
    "Example OpenWeather output:                      \n",
    "```\n",
    "                \n",
    "\n",
    "{\n",
    "  \"lat\": 33.44,\n",
    "  \"lon\": -94.04,\n",
    "  \"timezone\": \"America/Chicago\",\n",
    "  \"timezone_offset\": -21600,\n",
    "  \"current\": {\n",
    "    \"dt\": 1618317040,\n",
    "    \"sunrise\": 1618282134,\n",
    "    \"sunset\": 1618333901,\n",
    "    \"temp\": 284.07,\n",
    "    \"feels_like\": 282.84,\n",
    "    \"pressure\": 1019,\n",
    "    \"humidity\": 62,\n",
    "    \"dew_point\": 277.08,\n",
    "    \"uvi\": 0.89,\n",
    "    \"clouds\": 0,\n",
    "    \"visibility\": 10000,\n",
    "    \"wind_speed\": 6,\n",
    "    \"wind_deg\": 300,\n",
    "    \"weather\": [\n",
    "      {\n",
    "        \"id\": 500,\n",
    "        \"main\": \"Rain\",\n",
    "        \"description\": \"light rain\",\n",
    "        \"icon\": \"10d\"\n",
    "      }\n",
    "    ],\n",
    "    \"rain\": {\n",
    "      \"1h\": 0.21\n",
    "    }\n",
    "  },\n",
    "    \"minutely\": [\n",
    "    {\n",
    "      \"dt\": 1618317060,\n",
    "      \"precipitation\": 0.205\n",
    "    },\n",
    "    ...\n",
    "  },\n",
    "    \"hourly\": [\n",
    "    {\n",
    "      \"dt\": 1618315200,\n",
    "      \"temp\": 282.58,\n",
    "      \"feels_like\": 280.4,\n",
    "      \"pressure\": 1019,\n",
    "      \"humidity\": 68,\n",
    "      \"dew_point\": 276.98,\n",
    "      \"uvi\": 1.4,\n",
    "      \"clouds\": 19,\n",
    "      \"visibility\": 306,\n",
    "      \"wind_speed\": 4.12,\n",
    "      \"wind_deg\": 296,\n",
    "      \"wind_gust\": 7.33,\n",
    "      \"weather\": [\n",
    "        {\n",
    "          \"id\": 801,\n",
    "          \"main\": \"Clouds\",\n",
    "          \"description\": \"few clouds\",\n",
    "          \"icon\": \"02d\"\n",
    "        }\n",
    "      ],\n",
    "      \"pop\": 0\n",
    "    },\n",
    "    ...\n",
    "  }\n",
    "    \"daily\": [\n",
    "    {\n",
    "      \"dt\": 1618308000,\n",
    "      \"sunrise\": 1618282134,\n",
    "      \"sunset\": 1618333901,\n",
    "      \"moonrise\": 1618284960,\n",
    "      \"moonset\": 1618339740,\n",
    "      \"moon_phase\": 0.04,\n",
    "      \"temp\": {\n",
    "        \"day\": 279.79,\n",
    "        \"min\": 275.09,\n",
    "        \"max\": 284.07,\n",
    "        \"night\": 275.09,\n",
    "        \"eve\": 279.21,\n",
    "        \"morn\": 278.49\n",
    "      },\n",
    "      \"feels_like\": {\n",
    "        \"day\": 277.59,\n",
    "        \"night\": 276.27,\n",
    "        \"eve\": 276.49,\n",
    "        \"morn\": 276.27\n",
    "      },\n",
    "      \"pressure\": 1020,\n",
    "      \"humidity\": 81,\n",
    "      \"dew_point\": 276.77,\n",
    "      \"wind_speed\": 3.06,\n",
    "      \"wind_deg\": 294,\n",
    "      \"weather\": [\n",
    "        {\n",
    "          \"id\": 500,\n",
    "          \"main\": \"Rain\",\n",
    "          \"description\": \"light rain\",\n",
    "          \"icon\": \"10d\"\n",
    "        }\n",
    "      ],\n",
    "      \"clouds\": 56,\n",
    "      \"pop\": 0.2,\n",
    "      \"rain\": 0.62,\n",
    "      \"uvi\": 1.93\n",
    "    },\n",
    "    ...\n",
    "    },\n",
    "    \"alerts\": [\n",
    "    {\n",
    "      \"sender_name\": \"NWS Tulsa\",\n",
    "      \"event\": \"Heat Advisory\",\n",
    "      \"start\": 1597341600,\n",
    "      \"end\": 1597366800,\n",
    "      \"description\": \"...HEAT ADVISORY REMAINS IN EFFECT FROM 1 PM THIS AFTERNOON TO\\n8 PM CDT THIS EVENING...\\n* WHAT...Heat index values of 105 to 109 degrees expected.\\n* WHERE...Creek, Okfuskee, Okmulgee, McIntosh, Pittsburg,\\nLatimer, Pushmataha, and Choctaw Counties.\\n* WHEN...From 1 PM to 8 PM CDT Thursday.\\n* IMPACTS...The combination of hot temperatures and high\\nhumidity will combine to create a dangerous situation in which\\nheat illnesses are possible.\",\n",
    "      \"tags\": [\n",
    "        \"Extreme temperature value\"\n",
    "        ]\n",
    "    },\n",
    "    ...\n",
    "  ]\n",
    "}\n",
    "```"
   ],
   "metadata": {}
  },
  {
   "cell_type": "markdown",
   "source": [
    "## Current Weather Data"
   ],
   "metadata": {}
  },
  {
   "cell_type": "markdown",
   "source": [
    "### Get current wind:"
   ],
   "metadata": {}
  },
  {
   "cell_type": "code",
   "execution_count": 17,
   "source": [
    "def get_current_wind_forecast() -> dict:\n",
    "    current_exclusions = \",\".join([\n",
    "        i for i in s.OPEN_WEATHER_API_TYPES if i != \"current\"\n",
    "    ])\n",
    "    wind_fields = [\"wind_speed\", \"wind_deg\", \"wind_gust\"]\n",
    "\n",
    "    request_url = (\n",
    "        f\"{s.OPEN_WEATHER_URL_BASE}\"\n",
    "        f\"?lat={s.LOCATION_LATITUDE}&lon={s.LOCATION_LONGITUDE}\"\n",
    "        f\"&exclude=[{current_exclusions}]\"\n",
    "        f\"&appid={s.OPEN_WEATHER_API_KEY}\"\n",
    "    )\n",
    "\n",
    "    output = requests.get(request_url)\n",
    "\n",
    "    if output.status_code == 200:\n",
    "        output_json = json.loads(output.text)\n",
    "        wind = {\n",
    "            k: v for k, v in output_json[\"current\"].items() if k in wind_fields\n",
    "        }\n",
    "\n",
    "        return wind"
   ],
   "outputs": [],
   "metadata": {}
  },
  {
   "cell_type": "code",
   "execution_count": 18,
   "source": [
    "# Note: Wind speed is expressed in metres/second\n",
    "get_current_wind_forecast()"
   ],
   "outputs": [
    {
     "output_type": "execute_result",
     "data": {
      "text/plain": [
       "{'wind_speed': 2.24, 'wind_deg': 185, 'wind_gust': 4.02}"
      ]
     },
     "metadata": {},
     "execution_count": 18
    }
   ],
   "metadata": {}
  },
  {
   "cell_type": "markdown",
   "source": [
    "## Hourly Forecasts"
   ],
   "metadata": {}
  },
  {
   "cell_type": "markdown",
   "source": [],
   "metadata": {}
  }
 ],
 "metadata": {
  "orig_nbformat": 4,
  "language_info": {
   "name": "python",
   "version": "3.9.7",
   "mimetype": "text/x-python",
   "codemirror_mode": {
    "name": "ipython",
    "version": 3
   },
   "pygments_lexer": "ipython3",
   "nbconvert_exporter": "python",
   "file_extension": ".py"
  },
  "kernelspec": {
   "name": "python3",
   "display_name": "Python 3.9.7 64-bit ('.venv': poetry)"
  },
  "interpreter": {
   "hash": "ecce35bd9113a747577efe0252c6847bf715809e090c88017736437029f8b50c"
  }
 },
 "nbformat": 4,
 "nbformat_minor": 2
}